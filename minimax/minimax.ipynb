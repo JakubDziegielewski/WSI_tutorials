{
  "cells": [
    {
      "cell_type": "markdown",
      "metadata": {
        "collapsed": false
      },
      "source": [
        "# Ćwiczenie 3\n",
        "\n",
        "Celem ćwiczenia jest imlementacja metody [Minimax z obcinaniem alpha-beta](https://en.wikipedia.org/wiki/Alpha%E2%80%93beta_pruning) do gry Connect Four (czwórki).\n",
        "\n",
        "W trakcie ćwiczenia można skorzystać z reposytorium z implementacją gry [Connect Four udostępnionym przez Jakuba Łyskawę](https://github.com/lychanl/two-player-games). Ewentualnie, można zaimplementować samemu grę Connect Four (ale, tak aby rozwiązanie miało ten sam interfejs co podany poniżej).\n",
        "\n",
        "Implementację Minimax należy przetestować używając różną głębokość przeszukiwania. Implementacja Solvera musi zapewniać interfejs jak poniżej, ale można dodać dowolne metody prywatne oraz klasy wspomagające (jeżeli będą potrzebne).\n",
        "\n",
        "Punktacja:\n",
        "- Działająca metoda Minimax - **2 pkt**\n",
        "- Działająca metoda Minimax z obcinaniem alpha-beta - **1.5 pkt**\n",
        "- Analiza jakości solvera w zależności od głębokości przeszukiwania **1.5pkt**\n",
        "    - należy zaimplementować w tym celu prostą wizualizację rozgrywki dwóch agentów, bądź kilka przykładów 'z ręki'\n",
        "- Jakość kodu **2pkt**"
      ]
    },
    {
      "cell_type": "markdown",
      "metadata": {
        "collapsed": false
      },
      "source": [
        "Aby importowanie elementów z poniższej komórki działało należy umieścić tego notebooka w tym samym folderze co paczkę `two_player_games`:\n",
        "```\n",
        "├── LICENSE\n",
        "├── README.md\n",
        "├── minimax.ipynb # <<< HERE\n",
        "├── test\n",
        "│   ├── __init__.py\n",
        "│   ├── test_connect_four.py\n",
        "│   ├── test_dots_and_boxes.py\n",
        "│   └── test_pick.py\n",
        "└── two_player_games\n",
        "    ├── __init__.py\n",
        "    ├── games\n",
        "    │   ├── connect_four.py\n",
        "    │   └── dots_and_boxes.py\n",
        "    ├── move.py\n",
        "    ├── player.py\n",
        "    └── state.py\n",
        "```"
      ]
    },
    {
      "cell_type": "code",
      "execution_count": 64,
      "metadata": {
        "collapsed": true
      },
      "outputs": [],
      "source": [
        "from typing import Tuple, List\n",
        "\n",
        "from two_player_games.player import Player\n",
        "from two_player_games.games.connect_four import ConnectFour, ConnectFourMove\n",
        "from copy import copy\n",
        "import numpy as np\n",
        "from math import inf\n",
        "\n"
      ]
    },
    {
      "cell_type": "markdown",
      "metadata": {
        "collapsed": false
      },
      "source": [
        "Wielkość planszy"
      ]
    },
    {
      "cell_type": "code",
      "execution_count": 4,
      "metadata": {
        "collapsed": false
      },
      "outputs": [],
      "source": [
        "ROW_COUNT = 6\n",
        "COLUMN_COUNT = 7"
      ]
    },
    {
      "cell_type": "code",
      "execution_count": 5,
      "metadata": {},
      "outputs": [],
      "source": [
        "class Max(Player):\n",
        "    def __init__(self, char: str) -> None:\n",
        "        super().__init__(char)\n",
        "\n",
        "class Min(Player):\n",
        "    def __init__(self, char: str) -> None:\n",
        "        super().__init__(char)"
      ]
    },
    {
      "cell_type": "code",
      "execution_count": 92,
      "metadata": {
        "collapsed": false
      },
      "outputs": [],
      "source": [
        "class MinMaxSolver:\n",
        "\n",
        "    def __init__(self, game: ConnectFour):\n",
        "        if type(game.first_player) is not Max and type(game.first_player) is not Min:\n",
        "            raise ValueError(\"The first player is not Max nor Min\")\n",
        "        if type(game.second_player) is not Max and type(game.second_player) is not Min:\n",
        "            raise ValueError(\"The second player is not Max nor Min\")\n",
        "        if type(game.first_player) is type(game.second_player):\n",
        "            raise ValueError(\"Both players are the same type; One should be Max and one should be Min\")\n",
        "        self.game = game\n",
        "        self.count = 0\n",
        "\n",
        "    def evaluate_position(self, player: Player)->float:\n",
        "        if self.game.is_finished():\n",
        "            winner = self.game.get_winner()\n",
        "            if type(winner) is Max:\n",
        "                return inf\n",
        "            elif type(winner) is Min:\n",
        "                return -inf\n",
        "            else:\n",
        "                return 0.0\n",
        "        else:\n",
        "            evaluation = np.random.normal()\n",
        "            return evaluation\n",
        "            \n",
        "    def get_best_move(self)->int:\n",
        "        return self.minimax(5, -100.0, 100.0, type(self.game.state.get_current_player()) is Max)[0]\n",
        "        \n",
        "        \n",
        "\n",
        "    def is_valid_move(self, col_index:int)->bool:\n",
        "        return self.game.state.fields[col_index][ROW_COUNT - 1] is None\n",
        "    \n",
        "    def minimax(self, depth, alpha:float, beta:float, is_maximizing_player:bool)-> Tuple[int, float]:\n",
        "        \"\"\"Returns column index and score\"\"\"\n",
        "        valid_moves = self.get_valid_moves()\n",
        "        if self.game.is_finished() or depth == 0:\n",
        "            return None, self.evaluate_position(self.game.get_current_player())\n",
        "                \n",
        "            \n",
        "        else:\n",
        "            best_move = valid_moves[np.random.choice(len(valid_moves))]\n",
        "            if is_maximizing_player:\n",
        "                evaluation = -inf\n",
        "                for move in valid_moves:\n",
        "                    evaluated_game = copy(self.game)\n",
        "                    evaluated_game.make_move(ConnectFourMove(move))\n",
        "                    new_solver = MinMaxSolver(evaluated_game)\n",
        "                    new_evaluation = new_solver.minimax(depth-1, alpha, beta, not is_maximizing_player)[1]\n",
        "                    if new_evaluation > evaluation:\n",
        "                        evaluation = new_evaluation\n",
        "                        best_move = move\n",
        "                    alpha = max(alpha, evaluation)\n",
        "                    if alpha >= beta:\n",
        "                        break\n",
        "                return best_move, alpha\n",
        "            else:\n",
        "                evaluation = inf\n",
        "                for move in valid_moves:\n",
        "                    evaluated_game = copy(self.game)\n",
        "                    evaluated_game.make_move(ConnectFourMove(move))\n",
        "                    new_solver = MinMaxSolver(evaluated_game)\n",
        "                    new_evaluation = new_solver.minimax(depth-1, alpha, beta, not is_maximizing_player)[1]\n",
        "                    if new_evaluation < evaluation:\n",
        "                        evaluation = new_evaluation\n",
        "                        best_move = move\n",
        "                    beta = min(beta, evaluation)\n",
        "                    if alpha >= beta:\n",
        "                        break\n",
        "                return best_move, beta\n",
        "\n",
        "            \n",
        "    def get_valid_moves(self) -> list:\n",
        "        valid_moves = []\n",
        "        for column in range(COLUMN_COUNT):\n",
        "            if self.is_valid_move(column):\n",
        "                valid_moves.append(column)\n",
        "        return valid_moves"
      ]
    },
    {
      "cell_type": "markdown",
      "metadata": {
        "collapsed": false
      },
      "source": [
        "Rozgrywka"
      ]
    },
    {
      "cell_type": "code",
      "execution_count": 7,
      "metadata": {},
      "outputs": [],
      "source": [
        "p1 = Max(\"a\")\n",
        "p2 = Min(\"b\")\n",
        "game = ConnectFour(size=(COLUMN_COUNT, ROW_COUNT), first_player=p1, second_player=p2)\n",
        "solver = MinMaxSolver(game)\n",
        "for i in range(42):\n",
        "    move, eval = solver.minimax(4, -1000.1, 1000.1, type(solver.game.get_current_player()) is Max)\n",
        "    game.make_move(ConnectFourMove(move))\n",
        "\n"
      ]
    },
    {
      "cell_type": "code",
      "execution_count": 62,
      "metadata": {},
      "outputs": [
        {
          "name": "stdout",
          "output_type": "stream",
          "text": [
            "Current player: x\n",
            "[ ][ ][ ][ ][ ][ ][ ]\n",
            "[ ][ ][ ][ ][ ][ ][ ]\n",
            "[ ][ ][ ][ ][ ][ ][ ]\n",
            "[ ][ ][ ][o][ ][ ][x]\n",
            "[ ][ ][ ][o][ ][ ][x]\n",
            "[ ][ ][ ][o][ ][ ][x]\n",
            "None\n"
          ]
        }
      ],
      "source": [
        "print(game.state)\n",
        "move, eval = solver.minimax(1, -1000.1, 1000.1, type(solver.game.get_current_player()) is Max)\n",
        "print(game.state.get_winner())"
      ]
    },
    {
      "cell_type": "code",
      "execution_count": 102,
      "metadata": {},
      "outputs": [
        {
          "data": {
            "text/plain": [
              "(6, inf)"
            ]
          },
          "execution_count": 102,
          "metadata": {},
          "output_type": "execute_result"
        }
      ],
      "source": [
        "\n",
        "p1 = Max(\"x\")\n",
        "p2 = Min(\"o\")\n",
        "game = ConnectFour(size=(COLUMN_COUNT, ROW_COUNT), first_player=p1, second_player=p2)\n",
        "game.make_move(ConnectFourMove(6))\n",
        "game.make_move(ConnectFourMove(3))\n",
        "game.make_move(ConnectFourMove(6))\n",
        "game.make_move(ConnectFourMove(3))\n",
        "game.make_move(ConnectFourMove(6))\n",
        "game.make_move(ConnectFourMove(3))\n",
        "\n",
        "s = MinMaxSolver(game)\n",
        "s.minimax(6, -inf, inf, True)"
      ]
    },
    {
      "cell_type": "code",
      "execution_count": 111,
      "metadata": {},
      "outputs": [
        {
          "name": "stdout",
          "output_type": "stream",
          "text": [
            "CPU Move: 2\n",
            "Eval: -0.24553557935093365\n",
            "Current player: o\n",
            "[ ][ ][ ][ ][ ][ ][ ]\n",
            "[ ][ ][ ][ ][ ][ ][ ]\n",
            "[ ][ ][ ][ ][ ][ ][ ]\n",
            "[ ][ ][ ][ ][ ][ ][ ]\n",
            "[ ][ ][ ][ ][ ][ ][ ]\n",
            "[ ][ ][x][ ][ ][ ][ ]\n",
            "Player Move: 3\n",
            "Eval: -0.24553557935093365\n",
            "CPU Move: 6\n",
            "Eval: -0.9270976703795716\n",
            "Current player: o\n",
            "[ ][ ][ ][ ][ ][ ][ ]\n",
            "[ ][ ][ ][ ][ ][ ][ ]\n",
            "[ ][ ][ ][ ][ ][ ][ ]\n",
            "[ ][ ][ ][ ][ ][ ][ ]\n",
            "[ ][ ][ ][ ][ ][ ][ ]\n",
            "[ ][ ][x][o][ ][ ][x]\n",
            "Player Move: 2\n",
            "Eval: -0.9270976703795716\n",
            "CPU Move: 6\n",
            "Eval: -0.9147867478311605\n",
            "Current player: o\n",
            "[ ][ ][ ][ ][ ][ ][ ]\n",
            "[ ][ ][ ][ ][ ][ ][ ]\n",
            "[ ][ ][ ][ ][ ][ ][ ]\n",
            "[ ][ ][ ][ ][ ][ ][ ]\n",
            "[ ][ ][o][ ][ ][ ][x]\n",
            "[ ][ ][x][o][ ][ ][x]\n",
            "Player Move: 1\n",
            "Eval: -0.9147867478311605\n",
            "CPU Move: 2\n",
            "Eval: -0.5924640224029915\n",
            "Current player: o\n",
            "[ ][ ][ ][ ][ ][ ][ ]\n",
            "[ ][ ][ ][ ][ ][ ][ ]\n",
            "[ ][ ][ ][ ][ ][ ][ ]\n",
            "[ ][ ][x][ ][ ][ ][ ]\n",
            "[ ][ ][o][ ][ ][ ][x]\n",
            "[ ][o][x][o][ ][ ][x]\n",
            "Player Move: 3\n",
            "Eval: -0.5924640224029915\n",
            "CPU Move: 0\n",
            "Eval: -0.32700977794765834\n",
            "Current player: o\n",
            "[ ][ ][ ][ ][ ][ ][ ]\n",
            "[ ][ ][ ][ ][ ][ ][ ]\n",
            "[ ][ ][ ][ ][ ][ ][ ]\n",
            "[ ][ ][x][ ][ ][ ][ ]\n",
            "[ ][ ][o][o][ ][ ][x]\n",
            "[x][o][x][o][ ][ ][x]\n",
            "Player Move: 6\n",
            "Eval: -0.32700977794765834\n",
            "CPU Move: 4\n",
            "Eval: -0.18810815049822638\n",
            "Current player: o\n",
            "[ ][ ][ ][ ][ ][ ][ ]\n",
            "[ ][ ][ ][ ][ ][ ][ ]\n",
            "[ ][ ][ ][ ][ ][ ][ ]\n",
            "[ ][ ][x][ ][ ][ ][o]\n",
            "[ ][ ][o][o][ ][ ][x]\n",
            "[x][o][x][o][x][ ][x]\n",
            "Player Move: 1\n",
            "Eval: -0.18810815049822638\n",
            "CPU Move: 2\n",
            "Eval: -inf\n",
            "Current player: o\n",
            "[ ][ ][ ][ ][ ][ ][ ]\n",
            "[ ][ ][ ][ ][ ][ ][ ]\n",
            "[ ][ ][x][ ][ ][ ][ ]\n",
            "[ ][ ][x][ ][ ][ ][o]\n",
            "[ ][o][o][o][ ][ ][x]\n",
            "[x][o][x][o][x][ ][x]\n",
            "Player Move: 0\n",
            "Eval: -inf\n",
            "o\n",
            "Current player: x\n",
            "[ ][ ][ ][ ][ ][ ][ ]\n",
            "[ ][ ][ ][ ][ ][ ][ ]\n",
            "[ ][ ][x][ ][ ][ ][ ]\n",
            "[ ][ ][x][ ][ ][ ][o]\n",
            "[o][o][o][o][ ][ ][x]\n",
            "[x][o][x][o][x][ ][x]\n"
          ]
        }
      ],
      "source": [
        "g1 = ConnectFour(size=(COLUMN_COUNT, ROW_COUNT), first_player=p1, second_player=p2)\n",
        "solver = MinMaxSolver(g1)\n",
        "while not g1.state.is_finished():\n",
        "    move, eval = solver.minimax(2, -inf, inf, type(solver.game.get_current_player()) is Max)\n",
        "    print(f\"CPU Move: {move}\")\n",
        "    print(f\"Eval: {eval}\")\n",
        "    g1.make_move(ConnectFourMove(move))\n",
        "    if g1.get_winner():\n",
        "        break\n",
        "    print(g1.state)\n",
        "    move = int(input())\n",
        "    print(f\"Player Move: {move}\")\n",
        "    print(f\"Eval: {eval}\")\n",
        "    g1.make_move(ConnectFourMove(move))\n",
        "\n",
        "print(g1.get_winner().char)\n",
        "print(g1.state)\n",
        "    \n"
      ]
    },
    {
      "cell_type": "code",
      "execution_count": 50,
      "metadata": {},
      "outputs": [
        {
          "name": "stdout",
          "output_type": "stream",
          "text": [
            "Current player: o\n",
            "[ ][ ][ ][ ][ ][ ][ ]\n",
            "[ ][ ][ ][ ][ ][ ][ ]\n",
            "[ ][ ][ ][x][ ][ ][ ]\n",
            "[ ][ ][ ][o][ ][ ][x]\n",
            "[ ][ ][ ][o][ ][ ][x]\n",
            "[ ][ ][ ][o][ ][ ][x]\n",
            "6\n"
          ]
        }
      ],
      "source": [
        "\n",
        "print(g1.state)\n",
        "\n",
        "print(solver.minimax(2, -inf, inf, type(solver.game.get_current_player()) is Max)[0])"
      ]
    },
    {
      "cell_type": "code",
      "execution_count": null,
      "metadata": {},
      "outputs": [],
      "source": []
    },
    {
      "cell_type": "code",
      "execution_count": null,
      "metadata": {},
      "outputs": [],
      "source": []
    },
    {
      "cell_type": "code",
      "execution_count": null,
      "metadata": {},
      "outputs": [],
      "source": []
    }
  ],
  "metadata": {
    "kernelspec": {
      "display_name": "Python 3",
      "language": "python",
      "name": "python3"
    },
    "language_info": {
      "codemirror_mode": {
        "name": "ipython",
        "version": 3
      },
      "file_extension": ".py",
      "mimetype": "text/x-python",
      "name": "python",
      "nbconvert_exporter": "python",
      "pygments_lexer": "ipython3",
      "version": "3.12.0"
    },
    "nteract": {
      "version": "nteract-front-end@1.0.0"
    }
  },
  "nbformat": 4,
  "nbformat_minor": 0
}
