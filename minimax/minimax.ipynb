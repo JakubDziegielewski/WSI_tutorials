{
  "cells": [
    {
      "cell_type": "markdown",
      "metadata": {
        "collapsed": false
      },
      "source": [
        "# Ćwiczenie 3\n",
        "\n",
        "Celem ćwiczenia jest imlementacja metody [Minimax z obcinaniem alpha-beta](https://en.wikipedia.org/wiki/Alpha%E2%80%93beta_pruning) do gry Connect Four (czwórki).\n",
        "\n",
        "W trakcie ćwiczenia można skorzystać z reposytorium z implementacją gry [Connect Four udostępnionym przez Jakuba Łyskawę](https://github.com/lychanl/two-player-games). Ewentualnie, można zaimplementować samemu grę Connect Four (ale, tak aby rozwiązanie miało ten sam interfejs co podany poniżej).\n",
        "\n",
        "Implementację Minimax należy przetestować używając różną głębokość przeszukiwania. Implementacja Solvera musi zapewniać interfejs jak poniżej, ale można dodać dowolne metody prywatne oraz klasy wspomagające (jeżeli będą potrzebne).\n",
        "\n",
        "Punktacja:\n",
        "- Działająca metoda Minimax - **2 pkt**\n",
        "- Działająca metoda Minimax z obcinaniem alpha-beta - **1.5 pkt**\n",
        "- Analiza jakości solvera w zależności od głębokości przeszukiwania **1.5pkt**\n",
        "    - należy zaimplementować w tym celu prostą wizualizację rozgrywki dwóch agentów, bądź kilka przykładów 'z ręki'\n",
        "- Jakość kodu **2pkt**"
      ]
    },
    {
      "cell_type": "markdown",
      "metadata": {
        "collapsed": false
      },
      "source": [
        "Aby importowanie elementów z poniższej komórki działało należy umieścić tego notebooka w tym samym folderze co paczkę `two_player_games`:\n",
        "```\n",
        "├── LICENSE\n",
        "├── README.md\n",
        "├── minimax.ipynb # <<< HERE\n",
        "├── test\n",
        "│   ├── __init__.py\n",
        "│   ├── test_connect_four.py\n",
        "│   ├── test_dots_and_boxes.py\n",
        "│   └── test_pick.py\n",
        "└── two_player_games\n",
        "    ├── __init__.py\n",
        "    ├── games\n",
        "    │   ├── connect_four.py\n",
        "    │   └── dots_and_boxes.py\n",
        "    ├── move.py\n",
        "    ├── player.py\n",
        "    └── state.py\n",
        "```"
      ]
    },
    {
      "cell_type": "code",
      "execution_count": 1,
      "metadata": {
        "collapsed": true
      },
      "outputs": [],
      "source": [
        "from typing import Tuple, List\n",
        "\n",
        "from two_player_games.player import Player\n",
        "from two_player_games.games.connect_four import ConnectFour, ConnectFourMove\n",
        "from copy import copy\n",
        "import numpy as np\n",
        "from math import inf\n",
        "\n"
      ]
    },
    {
      "cell_type": "markdown",
      "metadata": {
        "collapsed": false
      },
      "source": [
        "Wielkość planszy"
      ]
    },
    {
      "cell_type": "code",
      "execution_count": 2,
      "metadata": {
        "collapsed": false
      },
      "outputs": [],
      "source": [
        "ROW_COUNT = 6\n",
        "COLUMN_COUNT = 7"
      ]
    },
    {
      "cell_type": "code",
      "execution_count": 3,
      "metadata": {},
      "outputs": [],
      "source": [
        "class Max(Player):\n",
        "    def __init__(self, char: str) -> None:\n",
        "        super().__init__(char)\n",
        "\n",
        "class Min(Player):\n",
        "    def __init__(self, char: str) -> None:\n",
        "        super().__init__(char)"
      ]
    },
    {
      "cell_type": "code",
      "execution_count": 99,
      "metadata": {
        "collapsed": false
      },
      "outputs": [],
      "source": [
        "class MinMaxSolver:\n",
        "\n",
        "    def __init__(self, game: ConnectFour):\n",
        "        if type(game.first_player) is not Max and type(game.first_player) is not Min:\n",
        "            raise ValueError(\"The first player is not Max nor Min\")\n",
        "        if type(game.second_player) is not Max and type(game.second_player) is not Min:\n",
        "            raise ValueError(\"The second player is not Max nor Min\")\n",
        "        if type(game.first_player) is type(game.second_player):\n",
        "            raise ValueError(\"Both players are the same type; One should be Max and one should be Min\")\n",
        "        self.game = game\n",
        "\n",
        "    def evaluate_position(self, player: Player)->float:\n",
        "        if self.game.is_finished():\n",
        "            winner = self.game.get_winner()\n",
        "            if type(winner) is Max:\n",
        "                return inf\n",
        "            elif type(winner) is Min:\n",
        "                return -inf\n",
        "            else:\n",
        "                return 0.0\n",
        "        else:\n",
        "            evaluation = np.random.normal()\n",
        "            return evaluation\n",
        "\n",
        "    def _evaluate_score(self, player) -> float:\n",
        "        score = 0\n",
        "        middle_column = len(self.game.state.fields)//2\n",
        "        chars_in_center = self.game.state.fields[middle_column].count(player.char)\n",
        "        score += chars_in_center * 5\n",
        "        return score\n",
        "        \n",
        "        \n",
        "    def _evaluate_next_state(self, move: int, depth: int, alpha:float, beta: float, is_maximizing_player: bool) -> float:\n",
        "        evaluated_game = copy(self.game)\n",
        "        evaluated_game.make_move(ConnectFourMove(move))\n",
        "        new_solver = MinMaxSolver(evaluated_game)\n",
        "        return new_solver.minimax(depth-1, alpha, beta, not is_maximizing_player)[1]\n",
        "\n",
        "    def is_valid_move(self, col_index:int)->bool:\n",
        "        return self.game.state.fields[col_index][ROW_COUNT - 1] is None\n",
        "    \n",
        "    def minimax(self, depth, alpha:float, beta:float, is_maximizing_player:bool)-> Tuple[int, float]:\n",
        "        \"\"\"Returns column index and score\"\"\"\n",
        "        valid_moves = self.get_valid_moves()\n",
        "        if self.game.is_finished() or depth == 0:\n",
        "            players = self.game.get_players()\n",
        "            max_player = players[0] if type(players[0]) is Max else players[1]\n",
        "            return None, self.evaluate_position(max_player)\n",
        "        else:\n",
        "            best_move = valid_moves[np.random.choice(len(valid_moves))]\n",
        "            if is_maximizing_player:\n",
        "                evaluation = -inf\n",
        "                for move in valid_moves:\n",
        "                    new_evaluation = self._evaluate_next_state(move, depth, alpha, beta, is_maximizing_player)\n",
        "                    if new_evaluation > evaluation:\n",
        "                        evaluation = new_evaluation\n",
        "                        best_move = move\n",
        "                    alpha = max(alpha, evaluation)\n",
        "                    if alpha >= beta:\n",
        "                        break\n",
        "                return best_move, alpha\n",
        "            else:\n",
        "                evaluation = inf\n",
        "                for move in valid_moves:\n",
        "                    new_evaluation = self._evaluate_next_state(move, depth, alpha, beta, is_maximizing_player)\n",
        "                    if new_evaluation < evaluation:\n",
        "                        evaluation = new_evaluation\n",
        "                        best_move = move\n",
        "                    beta = min(beta, evaluation)\n",
        "                    if alpha >= beta:\n",
        "                        break\n",
        "                return best_move, beta\n",
        "\n",
        "            \n",
        "    def get_valid_moves(self) -> list:\n",
        "        valid_moves = []\n",
        "        for column in range(COLUMN_COUNT):\n",
        "            if self.is_valid_move(column):\n",
        "                valid_moves.append(column)\n",
        "        return valid_moves"
      ]
    },
    {
      "cell_type": "markdown",
      "metadata": {
        "collapsed": false
      },
      "source": [
        "Rozgrywka"
      ]
    },
    {
      "cell_type": "code",
      "execution_count": 97,
      "metadata": {},
      "outputs": [
        {
          "name": "stdout",
          "output_type": "stream",
          "text": [
            "Current player: b\n",
            "[b][b][a][ ][ ][ ][ ]\n",
            "[a][a][a][ ][ ][b][ ]\n",
            "[b][b][b][ ][ ][b][b]\n",
            "[a][a][a][a][a][a][a]\n",
            "[b][a][a][b][b][a][b]\n",
            "[b][b][a][a][b][a][b]\n"
          ]
        }
      ],
      "source": [
        "p1 = Max(\"a\")\n",
        "p2 = Min(\"b\")\n",
        "game = ConnectFour(size=(COLUMN_COUNT, ROW_COUNT), first_player=p1, second_player=p2)\n",
        "solver = MinMaxSolver(game)\n",
        "while not game.is_finished():\n",
        "    move, eval = solver.minimax(5, -1000.1, 1000.1, type(solver.game.get_current_player()) is Max)\n",
        "    game.make_move(ConnectFourMove(move))\n",
        "    \n",
        "print(game.state)\n",
        "\n"
      ]
    },
    {
      "cell_type": "code",
      "execution_count": 50,
      "metadata": {},
      "outputs": [
        {
          "name": "stdout",
          "output_type": "stream",
          "text": [
            "a\n"
          ]
        }
      ],
      "source": []
    },
    {
      "cell_type": "code",
      "execution_count": 38,
      "metadata": {},
      "outputs": [
        {
          "name": "stdout",
          "output_type": "stream",
          "text": [
            "Current player: b\n",
            "[b][a][a][ ][a][b][a]\n",
            "[b][b][b][ ][b][a][a]\n",
            "[a][a][a][ ][a][b][a]\n",
            "[b][b][b][a][b][b][b]\n",
            "[b][b][a][b][a][b][a]\n",
            "[a][a][a][b][a][a][b]\n",
            "<__main__.Max object at 0x00000212D9405B80>\n"
          ]
        }
      ],
      "source": [
        "print(game.state)\n",
        "move, eval = solver.minimax(2, -1000.1, 1000.1, type(solver.game.get_current_player()) is Max)\n",
        "print(game.state.get_winner())"
      ]
    },
    {
      "cell_type": "code",
      "execution_count": 101,
      "metadata": {},
      "outputs": [
        {
          "name": "stdout",
          "output_type": "stream",
          "text": [
            "(6, inf)\n"
          ]
        }
      ],
      "source": [
        "\n",
        "p1 = Max(\"x\")\n",
        "p2 = Min(\"o\")\n",
        "game = ConnectFour(size=(COLUMN_COUNT, ROW_COUNT), first_player=p1, second_player=p2)\n",
        "game.make_move(ConnectFourMove(6))\n",
        "game.make_move(ConnectFourMove(3))\n",
        "game.make_move(ConnectFourMove(6))\n",
        "game.make_move(ConnectFourMove(3))\n",
        "game.make_move(ConnectFourMove(6))\n",
        "game.make_move(ConnectFourMove(3))\n",
        "\n",
        "s = MinMaxSolver(game)\n",
        "print(s.minimax(3, -inf, inf, True))\n",
        "\n"
      ]
    },
    {
      "cell_type": "code",
      "execution_count": 109,
      "metadata": {},
      "outputs": [
        {
          "name": "stdout",
          "output_type": "stream",
          "text": [
            "Current player: x\n",
            "[ ][ ][ ][ ][ ][ ][ ]\n",
            "[ ][ ][ ][ ][ ][ ][ ]\n",
            "[ ][ ][ ][ ][ ][ ][ ]\n",
            "[ ][ ][ ][ ][ ][ ][ ]\n",
            "[ ][ ][ ][ ][ ][ ][ ]\n",
            "[ ][ ][ ][ ][ ][ ][ ]\n",
            "CPU Move: 5\n",
            "Eval: 0.9476454731762441\n",
            "Current player: x\n",
            "[ ][ ][ ][ ][ ][ ][ ]\n",
            "[ ][ ][ ][ ][ ][ ][ ]\n",
            "[ ][ ][ ][ ][ ][ ][ ]\n",
            "[ ][ ][ ][ ][ ][ ][ ]\n",
            "[ ][ ][ ][ ][ ][ ][ ]\n",
            "[ ][ ][ ][x][ ][o][ ]\n",
            "CPU Move: 3\n",
            "Eval: 0.9189130004224318\n",
            "Current player: x\n",
            "[ ][ ][ ][ ][ ][ ][ ]\n",
            "[ ][ ][ ][ ][ ][ ][ ]\n",
            "[ ][ ][ ][ ][ ][ ][ ]\n",
            "[ ][ ][ ][o][ ][ ][ ]\n",
            "[ ][ ][ ][x][ ][ ][ ]\n",
            "[ ][ ][ ][x][ ][o][ ]\n",
            "CPU Move: 1\n",
            "Eval: 0.8472160438075901\n",
            "Current player: x\n",
            "[ ][ ][ ][ ][ ][ ][ ]\n",
            "[ ][ ][ ][ ][ ][ ][ ]\n",
            "[ ][ ][ ][x][ ][ ][ ]\n",
            "[ ][ ][ ][o][ ][ ][ ]\n",
            "[ ][ ][ ][x][ ][ ][ ]\n",
            "[ ][o][ ][x][ ][o][ ]\n",
            "CPU Move: 5\n",
            "Eval: 0.7611751761173694\n",
            "Current player: x\n",
            "[ ][ ][ ][ ][ ][ ][ ]\n",
            "[ ][ ][ ][x][ ][ ][ ]\n",
            "[ ][ ][ ][x][ ][ ][ ]\n",
            "[ ][ ][ ][o][ ][ ][ ]\n",
            "[ ][ ][ ][x][ ][o][ ]\n",
            "[ ][o][ ][x][ ][o][ ]\n",
            "CPU Move: 1\n",
            "Eval: 0.6025175893580971\n",
            "Current player: x\n",
            "[ ][ ][ ][x][ ][ ][ ]\n",
            "[ ][ ][ ][x][ ][ ][ ]\n",
            "[ ][ ][ ][x][ ][ ][ ]\n",
            "[ ][ ][ ][o][ ][ ][ ]\n",
            "[ ][o][ ][x][ ][o][ ]\n",
            "[ ][o][ ][x][ ][o][ ]\n",
            "CPU Move: 5\n",
            "Eval: 0.6621901754696974\n",
            "Current player: x\n",
            "[ ][ ][ ][x][ ][ ][ ]\n",
            "[ ][ ][ ][x][ ][ ][ ]\n",
            "[ ][ ][ ][x][ ][ ][ ]\n",
            "[ ][x][ ][o][ ][o][ ]\n",
            "[ ][o][ ][x][ ][o][ ]\n",
            "[ ][o][ ][x][ ][o][ ]\n",
            "Current player: x\n",
            "[ ][ ][ ][x][ ][ ][ ]\n",
            "[ ][ ][ ][x][ ][ ][ ]\n",
            "[ ][ ][ ][x][ ][ ][ ]\n",
            "[ ][x][ ][o][ ][o][ ]\n",
            "[ ][o][ ][x][ ][o][ ]\n",
            "[ ][o][ ][x][ ][o][ ]\n",
            "CPU Move: 6\n",
            "Eval: 0.8220000989869172\n",
            "Current player: x\n",
            "[ ][ ][ ][x][ ][ ][ ]\n",
            "[ ][ ][ ][x][ ][ ][ ]\n",
            "[ ][ ][ ][x][ ][x][ ]\n",
            "[ ][x][ ][o][ ][o][ ]\n",
            "[ ][o][ ][x][ ][o][ ]\n",
            "[ ][o][ ][x][ ][o][o]\n",
            "CPU Move: 6\n",
            "Eval: 0.7340443118593509\n",
            "Current player: x\n",
            "[ ][ ][ ][x][ ][ ][ ]\n",
            "[ ][ ][ ][x][ ][x][ ]\n",
            "[ ][ ][ ][x][ ][x][ ]\n",
            "[ ][x][ ][o][ ][o][ ]\n",
            "[ ][o][ ][x][ ][o][o]\n",
            "[ ][o][ ][x][ ][o][o]\n",
            "CPU Move: 1\n",
            "Eval: 0.843340205592089\n",
            "Current player: x\n",
            "[ ][ ][ ][x][ ][ ][ ]\n",
            "[ ][ ][ ][x][ ][x][ ]\n",
            "[ ][o][ ][x][ ][x][ ]\n",
            "[ ][x][ ][o][ ][o][x]\n",
            "[ ][o][ ][x][ ][o][o]\n",
            "[ ][o][ ][x][ ][o][o]\n",
            "CPU Move: 6\n",
            "Eval: 1.1908539171973007\n",
            "Current player: x\n",
            "[ ][ ][ ][x][ ][ ][ ]\n",
            "[ ][ ][ ][x][ ][x][o]\n",
            "[ ][o][ ][x][ ][x][x]\n",
            "[ ][x][ ][o][ ][o][x]\n",
            "[ ][o][ ][x][ ][o][o]\n",
            "[ ][o][ ][x][ ][o][o]\n",
            "Current player: x\n",
            "[ ][ ][ ][x][ ][ ][ ]\n",
            "[ ][ ][ ][x][ ][x][o]\n",
            "[ ][o][ ][x][ ][x][x]\n",
            "[ ][x][ ][o][ ][o][x]\n",
            "[ ][o][ ][x][ ][o][o]\n",
            "[ ][o][ ][x][ ][o][o]\n",
            "CPU Move: 2\n",
            "Eval: 1.100786657255935\n",
            "Current player: x\n",
            "[ ][ ][ ][x][ ][ ][ ]\n",
            "[ ][ ][ ][x][ ][x][o]\n",
            "[ ][o][ ][x][ ][x][x]\n",
            "[ ][x][ ][o][ ][o][x]\n",
            "[ ][o][o][x][ ][o][o]\n",
            "[ ][o][x][x][ ][o][o]\n",
            "CPU Move: 2\n",
            "Eval: 0.9669078272972614\n",
            "Current player: x\n",
            "[ ][ ][ ][x][ ][ ][ ]\n",
            "[ ][ ][ ][x][ ][x][o]\n",
            "[ ][o][ ][x][ ][x][x]\n",
            "[ ][x][o][o][ ][o][x]\n",
            "[ ][o][o][x][ ][o][o]\n",
            "[ ][o][x][x][x][o][o]\n",
            "Current player: x\n",
            "[ ][ ][ ][x][ ][ ][ ]\n",
            "[ ][ ][ ][x][ ][x][o]\n",
            "[ ][o][ ][x][ ][x][x]\n",
            "[ ][x][o][o][ ][o][x]\n",
            "[ ][o][o][x][ ][o][o]\n",
            "[ ][o][x][x][x][o][o]\n",
            "CPU Move: 6\n",
            "Eval: inf\n",
            "Current player: x\n",
            "[ ][ ][ ][x][ ][ ][o]\n",
            "[ ][ ][ ][x][ ][x][o]\n",
            "[ ][o][x][x][ ][x][x]\n",
            "[ ][x][o][o][ ][o][x]\n",
            "[ ][o][o][x][ ][o][o]\n",
            "[ ][o][x][x][x][o][o]\n",
            "CPU Move: 0\n",
            "Eval: inf\n",
            "Current player: x\n",
            "[ ][ ][ ][x][ ][ ][o]\n",
            "[ ][ ][x][x][ ][x][o]\n",
            "[ ][o][x][x][ ][x][x]\n",
            "[ ][x][o][o][ ][o][x]\n",
            "[ ][o][o][x][ ][o][o]\n",
            "[o][o][x][x][x][o][o]\n",
            "Winner: x\n",
            "Current player: o\n",
            "[ ][ ][ ][x][ ][ ][o]\n",
            "[ ][ ][x][x][ ][x][o]\n",
            "[ ][o][x][x][ ][x][x]\n",
            "[ ][x][o][o][ ][o][x]\n",
            "[x][o][o][x][ ][o][o]\n",
            "[o][o][x][x][x][o][o]\n"
          ]
        }
      ],
      "source": [
        "g1 = ConnectFour(size=(COLUMN_COUNT, ROW_COUNT), first_player=p1, second_player=p2)\n",
        "solver = MinMaxSolver(g1)\n",
        "while not g1.state.is_finished():\n",
        "    print(g1.state)\n",
        "    move = int(input())\n",
        "    if solver.is_valid_move(move):\n",
        "        g1.make_move(ConnectFourMove(move))\n",
        "    else:\n",
        "        continue\n",
        "    if g1.get_winner():\n",
        "        break\n",
        "    move, eval = solver.minimax(8, -inf, inf, type(solver.game.get_current_player()) is Max)\n",
        "    print(f\"CPU Move: {move}\")\n",
        "    print(f\"Eval: {eval}\")\n",
        "    g1.make_move(ConnectFourMove(move))\n",
        "   \n",
        "\n",
        "print(f\"Winner: {g1.get_winner().char}\")\n",
        "print(g1.state)\n",
        "    \n"
      ]
    },
    {
      "cell_type": "code",
      "execution_count": null,
      "metadata": {},
      "outputs": [],
      "source": []
    }
  ],
  "metadata": {
    "kernelspec": {
      "display_name": "Python 3",
      "language": "python",
      "name": "python3"
    },
    "language_info": {
      "codemirror_mode": {
        "name": "ipython",
        "version": 3
      },
      "file_extension": ".py",
      "mimetype": "text/x-python",
      "name": "python",
      "nbconvert_exporter": "python",
      "pygments_lexer": "ipython3",
      "version": "3.12.0"
    },
    "nteract": {
      "version": "nteract-front-end@1.0.0"
    }
  },
  "nbformat": 4,
  "nbformat_minor": 0
}
