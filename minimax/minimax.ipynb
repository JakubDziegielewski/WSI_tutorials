{
  "cells": [
    {
      "cell_type": "markdown",
      "metadata": {
        "collapsed": false
      },
      "source": [
        "# Ćwiczenie 3\n",
        "\n",
        "Celem ćwiczenia jest imlementacja metody [Minimax z obcinaniem alpha-beta](https://en.wikipedia.org/wiki/Alpha%E2%80%93beta_pruning) do gry Connect Four (czwórki).\n",
        "\n",
        "W trakcie ćwiczenia można skorzystać z reposytorium z implementacją gry [Connect Four udostępnionym przez Jakuba Łyskawę](https://github.com/lychanl/two-player-games). Ewentualnie, można zaimplementować samemu grę Connect Four (ale, tak aby rozwiązanie miało ten sam interfejs co podany poniżej).\n",
        "\n",
        "Implementację Minimax należy przetestować używając różną głębokość przeszukiwania. Implementacja Solvera musi zapewniać interfejs jak poniżej, ale można dodać dowolne metody prywatne oraz klasy wspomagające (jeżeli będą potrzebne).\n",
        "\n",
        "Punktacja:\n",
        "- Działająca metoda Minimax - **2 pkt**\n",
        "- Działająca metoda Minimax z obcinaniem alpha-beta - **1.5 pkt**\n",
        "- Analiza jakości solvera w zależności od głębokości przeszukiwania **1.5pkt**\n",
        "    - należy zaimplementować w tym celu prostą wizualizację rozgrywki dwóch agentów, bądź kilka przykładów 'z ręki'\n",
        "- Jakość kodu **2pkt**"
      ]
    },
    {
      "cell_type": "markdown",
      "metadata": {
        "collapsed": false
      },
      "source": [
        "Aby importowanie elementów z poniższej komórki działało należy umieścić tego notebooka w tym samym folderze co paczkę `two_player_games`:\n",
        "```\n",
        "├── LICENSE\n",
        "├── README.md\n",
        "├── minimax.ipynb # <<< HERE\n",
        "├── test\n",
        "│   ├── __init__.py\n",
        "│   ├── test_connect_four.py\n",
        "│   ├── test_dots_and_boxes.py\n",
        "│   └── test_pick.py\n",
        "└── two_player_games\n",
        "    ├── __init__.py\n",
        "    ├── games\n",
        "    │   ├── connect_four.py\n",
        "    │   └── dots_and_boxes.py\n",
        "    ├── move.py\n",
        "    ├── player.py\n",
        "    └── state.py\n",
        "```"
      ]
    },
    {
      "cell_type": "code",
      "execution_count": 105,
      "metadata": {
        "collapsed": true
      },
      "outputs": [],
      "source": [
        "from typing import Tuple, List\n",
        "\n",
        "from two_player_games.player import Player\n",
        "from two_player_games.games.connect_four import ConnectFour, ConnectFourMove\n",
        "from copy import deepcopy\n",
        "\n"
      ]
    },
    {
      "cell_type": "markdown",
      "metadata": {
        "collapsed": false
      },
      "source": [
        "Wielkość planszy"
      ]
    },
    {
      "cell_type": "code",
      "execution_count": 106,
      "metadata": {
        "collapsed": false
      },
      "outputs": [],
      "source": [
        "ROW_COUNT = 6\n",
        "COLUMN_COUNT = 7"
      ]
    },
    {
      "cell_type": "code",
      "execution_count": 107,
      "metadata": {},
      "outputs": [],
      "source": [
        "class Max(Player):\n",
        "    def __init__(self, char: str) -> None:\n",
        "        super().__init__(char)\n",
        "\n",
        "class Min(Player):\n",
        "    def __init__(self, char: str) -> None:\n",
        "        super().__init__(char)"
      ]
    },
    {
      "cell_type": "code",
      "execution_count": 135,
      "metadata": {
        "collapsed": false
      },
      "outputs": [],
      "source": [
        "class MinMaxSolver:\n",
        "\n",
        "    def __init__(self, game: ConnectFour):\n",
        "        if type(game.first_player) is not Max and type(game.first_player) is not Min:\n",
        "            raise ValueError(\"The first player is not Max nor Min\")\n",
        "        if type(game.second_player) is not Max and type(game.second_player) is not Min:\n",
        "            raise ValueError(\"The second player is not Max nor Min\")\n",
        "        if type(game.first_player) is type(game.second_player):\n",
        "            raise ValueError(\"Both players are the same type; One should be Max and one should be Min\")\n",
        "        self.game = game\n",
        "\n",
        "    def evaluate_position(self, player: Player)->float:\n",
        "        if self.game.is_finished():\n",
        "            winner = self.game.get_winner()\n",
        "            if type(winner) is Max:\n",
        "                return 1000.0\n",
        "            elif type(winner) is Min:\n",
        "                return -1000.0\n",
        "            else:\n",
        "                return 0.0\n",
        "        else:\n",
        "            pass\n",
        "            \n",
        "    def get_best_move(self)->int:\n",
        "        return self.minimax(10, -100.0, 100.0, type(self.game.state.get_current_player()) is Max)[0]\n",
        "        \n",
        "        \n",
        "\n",
        "    def is_valid_move(self, col_index:int)->bool:\n",
        "        return not self.game.is_finished() and self.game.state.fields[col_index][ROW_COUNT - 1] is None\n",
        "    \n",
        "    def minimax(self, depth, alpha:float, beta:float, is_maximizing_player:bool)-> Tuple[int, float]:\n",
        "        \"\"\"Returns column index and score\"\"\"\n",
        "        valid_moves = self.get_valid_moves()\n",
        "        if len(valid_moves) == 0 or depth == 0:\n",
        "            winner = self.game.get_winner()\n",
        "            if type(winner) is Max:\n",
        "                return None, 1000.0\n",
        "            elif type(winner) is Min:\n",
        "                return None, -1000.0\n",
        "            elif winner:\n",
        "                return None, 0.0\n",
        "            else:\n",
        "                #Heuristic\n",
        "                return None, 0.0\n",
        "            \n",
        "        else:\n",
        "            best_move = valid_moves[0]\n",
        "            if is_maximizing_player:\n",
        "                evaluation = -1000.1\n",
        "                for move in valid_moves:\n",
        "                    evaluated_state = deepcopy(self)\n",
        "                    evaluated_state.game.state.make_move(ConnectFourMove(move))\n",
        "                    new_evaluation = evaluated_state.minimax(depth-1, alpha, beta, not is_maximizing_player)[1]\n",
        "                    if new_evaluation > evaluation:\n",
        "                        evaluation = new_evaluation\n",
        "                        best_move = move\n",
        "                        alpha = max(alpha, evaluation)\n",
        "                    if alpha >= beta:\n",
        "                        return best_move, alpha\n",
        "                return best_move, alpha\n",
        "            else:\n",
        "                evaluation = 1000.1\n",
        "                for move in valid_moves:\n",
        "                    evaluated_state = deepcopy(self)\n",
        "                    evaluated_state.game.state.make_move(ConnectFourMove(move))\n",
        "                    new_evaluation = evaluated_state.minimax(depth-1, alpha, beta, not is_maximizing_player)[1]\n",
        "                    if new_evaluation < evaluation:\n",
        "                        evaluation = new_evaluation\n",
        "                        best_move = move\n",
        "                        beta = min(beta, evaluation)\n",
        "                    if alpha >= beta:\n",
        "                        return best_move, beta\n",
        "                return best_move, beta\n",
        "\n",
        "        \n",
        "    \n",
        "    def make_move(self, move: int, depth: int):\n",
        "        move, evaluation = self.minimax(depth, 0.0, 0.0, type(self.game.get_current_player()) is Max)\n",
        "        self.game.make_move(ConnectFourMove(move))\n",
        "        print(evaluation)\n",
        "            \n",
        "    def get_valid_moves(self) -> list:\n",
        "        valid_moves = []\n",
        "        for column in range(len(self.game.state.fields)):\n",
        "            if self.is_valid_move(column):\n",
        "                valid_moves.append(column)\n",
        "        return valid_moves"
      ]
    },
    {
      "cell_type": "markdown",
      "metadata": {
        "collapsed": false
      },
      "source": [
        "Rozgrywka"
      ]
    },
    {
      "cell_type": "code",
      "execution_count": 136,
      "metadata": {
        "collapsed": false
      },
      "outputs": [
        {
          "name": "stdout",
          "output_type": "stream",
          "text": [
            "True\n",
            "True\n"
          ]
        }
      ],
      "source": [
        "p1 = Max(\"x\")\n",
        "p2 = Min(\"o\")\n",
        "game = ConnectFour(size=(COLUMN_COUNT, ROW_COUNT), first_player=p1, second_player=p2)\n",
        "game.make_move(ConnectFourMove(3))\n",
        "\n",
        "print(game.state.fields[3][ROW_COUNT - 1] is None)\n",
        "\n",
        "\n",
        "print(type(p1) is Max)"
      ]
    },
    {
      "cell_type": "code",
      "execution_count": 137,
      "metadata": {},
      "outputs": [
        {
          "data": {
            "text/plain": [
              "1"
            ]
          },
          "execution_count": 137,
          "metadata": {},
          "output_type": "execute_result"
        }
      ],
      "source": [
        "a = [True, False]\n",
        "sum(a)\n"
      ]
    },
    {
      "cell_type": "code",
      "execution_count": 138,
      "metadata": {},
      "outputs": [
        {
          "data": {
            "text/plain": [
              "(0, 0.0)"
            ]
          },
          "execution_count": 138,
          "metadata": {},
          "output_type": "execute_result"
        }
      ],
      "source": [
        "p1 = Max(\"a\")\n",
        "p2 = Min(\"b\")\n",
        "game = ConnectFour(size=(COLUMN_COUNT, ROW_COUNT), first_player=p1, second_player=p2)\n",
        "solver = MinMaxSolver(game)\n",
        "solver.minimax(4, -1000.1, 1000.1, True)\n"
      ]
    },
    {
      "cell_type": "markdown",
      "metadata": {},
      "source": []
    },
    {
      "cell_type": "code",
      "execution_count": 100,
      "metadata": {},
      "outputs": [
        {
          "data": {
            "text/plain": [
              "True"
            ]
          },
          "execution_count": 100,
          "metadata": {},
          "output_type": "execute_result"
        }
      ],
      "source": [
        "not False"
      ]
    },
    {
      "cell_type": "code",
      "execution_count": null,
      "metadata": {},
      "outputs": [],
      "source": []
    }
  ],
  "metadata": {
    "kernelspec": {
      "display_name": "Python 3",
      "language": "python",
      "name": "python3"
    },
    "language_info": {
      "codemirror_mode": {
        "name": "ipython",
        "version": 3
      },
      "file_extension": ".py",
      "mimetype": "text/x-python",
      "name": "python",
      "nbconvert_exporter": "python",
      "pygments_lexer": "ipython3",
      "version": "3.12.0"
    },
    "nteract": {
      "version": "nteract-front-end@1.0.0"
    }
  },
  "nbformat": 4,
  "nbformat_minor": 0
}
