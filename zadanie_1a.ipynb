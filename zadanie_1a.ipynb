{
  "cells": [
    {
      "cell_type": "markdown",
      "metadata": {},
      "source": [
        "# Zadanie 1a (3 pkt)\n",
        "Celem zadania jest rozwiązanie problemu plecakowego dwoma metodami - brute force oraz według zadanej heurystyki. Należy zaimplementować metody klasy *KnapSack* - *solve_knapsack_brute_force* oraz *solve_knapsack_pw_ratio*. Poprzez rozwiązanie problemu rozumiemy podanie które przedmioty (indeksy w tablicy) należy spakować do plecaka oraz jaka jest sumaryczna wartość i masa plecaka. Punktacja wygląda następująco:\n",
        "\n",
        "\n",
        "*   Rozwiązanie problemu metodą brute force. *Podpowiedź: do wygenerowania wszystkich permutacji można użyć funkcji product z biblioteki itertools* - **1.5 pkt**\n",
        "*   Rozwiązanie problemu według heurystyki - do plecaka pakujemy przedmioty według stosunku wartości do wagi - **1 pkt**\n",
        "*   Dla metody brute force proszę wygenerować wykres zależności czasu wykonywania metody od liczby elementów w tablicach *weights* i *profits* (do obu tablic należy stopniowo dopisywać po jednym elemencie, np. 10-krotnie, wartości elementów nie mają znaczenia). Proszę również odpowiedzieć na pytania (w osobnej komórce tekstowej) - czy obie metody mają takie same rozwiązania? Jakie są Pani / Pana wnioski? - **0.5 pkt**\n",
        "\n",
        "\n"
      ]
    },
    {
      "cell_type": "code",
      "execution_count": 1,
      "metadata": {
        "id": "jvWUS4Z_EUXF"
      },
      "outputs": [],
      "source": [
        "import numpy as np\n",
        "import itertools"
      ]
    },
    {
      "cell_type": "code",
      "execution_count": 2,
      "metadata": {
        "id": "fyRiPlu1G4am"
      },
      "outputs": [],
      "source": [
        "class KnapSack:\n",
        "  def __init__(self, profits, weights, capacity):\n",
        "    self.profits = profits\n",
        "    self.weights = weights\n",
        "    self.capacity = capacity\n",
        "\n",
        "  def solve_knapsack_brute_force(self):\n",
        "    indices_of_best_combination = []\n",
        "    best_profit = 0\n",
        "    weight_with_best_profit = 0\n",
        "\n",
        "    \"\"\"\n",
        "    Itarate over possible number of items to pack.\n",
        "    Generate all possible combinations of indices\n",
        "    for a given number of items.\n",
        "    Calculate profit and weight.\n",
        "    If the profit is better than the current best profit\n",
        "    and the weight is smaller than the capacity of the knapsack,\n",
        "    then update indices, best profit, and final weight.\n",
        "    \"\"\"\n",
        "    for number_of_items in range(1, len(self.profits) + 1):\n",
        "      for indices_of_items in itertools.combinations(range(len(self.profits)), number_of_items):\n",
        "        indices_of_items = list(indices_of_items)\n",
        "        profit = sum(self.profits[indices_of_items])\n",
        "        weight = sum(self.weights[indices_of_items])\n",
        "        if profit > best_profit and weight <= self.capacity:\n",
        "          indices_of_best_combination = indices_of_items\n",
        "          best_profit = profit\n",
        "          weight_with_best_profit = weight\n",
        "    return(indices_of_best_combination, best_profit, weight_with_best_profit)\n",
        "\n",
        "\n",
        "  def __create_pw_ratio_and_index_array(self):\n",
        "    \"\"\"\n",
        "    Create array of profit to weight ratio.\n",
        "    Create array of indices: [0, 1, ... number_of_items - 1].\n",
        "    Join those two arrays by columns and save the result.\n",
        "    The result of this operation is an array with 2 columns.\n",
        "    Sort this array in descending order of the profit to weight column.\n",
        "    Return the sorted array\n",
        "    \"\"\"\n",
        "    pw_ratio_array = self.profits / self.weights\n",
        "    indices = np.arange(len(pw_ratio_array))\n",
        "    pw_ratio_and_index_array = np.c_[pw_ratio_array, indices]\n",
        "    sorted_pw_ratio_and_index_array = sorted(pw_ratio_and_index_array, key = lambda pw_ratio: -pw_ratio[0])\n",
        "    return(np.array(sorted_pw_ratio_and_index_array))\n",
        "\n",
        "  def solve_knapsack_pw_ratio(self):\n",
        "    \"\"\"\n",
        "    Create sorted profit to waight ratio and index array.\n",
        "    Initialize empty list of indices.\n",
        "    Initialize profit and weight.\n",
        "    Iterate over items according to their profit to ther ratio,\n",
        "    first check items with higest ratios.\n",
        "    If the capacity left is big enough for the item, add it to the knapsack.\n",
        "    Else try the next item.\n",
        "    \"\"\"\n",
        "    pw_ratio_and_index_array = self.__create_pw_ratio_and_index_array()\n",
        "    indices = []\n",
        "    profit = 0\n",
        "    weight = 0\n",
        "    for index in pw_ratio_and_index_array[:, 1]:\n",
        "      index = int(index)\n",
        "      if weight + self.weights[index] <= self.capacity:\n",
        "        indices.append(index)\n",
        "        profit = profit + self.profits[index]\n",
        "        weight = weight + self.weights[index]\n",
        "\n",
        "    return(indices, profit, weight)"
      ]
    },
    {
      "cell_type": "code",
      "execution_count": 3,
      "metadata": {
        "id": "vPMIIiPGW_QZ"
      },
      "outputs": [
        {
          "name": "stdout",
          "output_type": "stream",
          "text": [
            "Brute Force:\n",
            " Indices: [1, 2] Value of profits: 17 Value of weights: 8\n",
            "\n",
            "PW Ratio:\n",
            " Indices: [3, 1] Value of profits: 14 Value of weights: 5\n"
          ]
        }
      ],
      "source": [
        "weights = np.array([8, 3, 5, 2])\n",
        "capacity = 9\n",
        "profits = np.array([16, 8, 9, 6])\n",
        "t1 = KnapSack(profits, weights, capacity)\n",
        "bf_result = t1.solve_knapsack_brute_force()\n",
        "print(f\"Brute Force:\\n Indices: {bf_result[0]} Value of profits: {bf_result[1]} Value of weights: {bf_result[2]}\\n\")\n",
        "\n",
        "pw_result = t1.solve_knapsack_pw_ratio()\n",
        "print(f\"PW Ratio:\\n Indices: {pw_result[0]} Value of profits: {pw_result[1]} Value of weights: {pw_result[2]}\")"
      ]
    },
    {
      "cell_type": "markdown",
      "metadata": {},
      "source": [
        "### Tests"
      ]
    },
    {
      "cell_type": "code",
      "execution_count": 4,
      "metadata": {},
      "outputs": [],
      "source": [
        "t1_profits = np.array([4, 9, 6, 5])\n",
        "t1_weights = np.array([2, 4, 3, 3])\n",
        "t1_capacity = 5\n",
        "t1_knapsac = KnapSack(t1_profits, t1_weights, t1_capacity)\n",
        "t1_bf_result = t1_knapsac.solve_knapsack_brute_force()\n",
        "t1_pw_result = t1_knapsac.solve_knapsack_pw_ratio()\n",
        "\n",
        "assert t1_bf_result == ([0, 2], 10, 5)\n",
        "assert t1_pw_result == ([1], 9, 4)\n",
        "\n",
        "t2_profits = np.array([1, 3, 5])\n",
        "t2_weights = np.array([1, 2, 3])\n",
        "t2_capacity = 4\n",
        "t2_knapsac = KnapSack(t2_profits, t2_weights, t2_capacity)\n",
        "t2_bf_result = t2_knapsac.solve_knapsack_brute_force()\n",
        "t2_pw_result = t2_knapsac.solve_knapsack_pw_ratio()\n",
        "\n",
        "assert t2_bf_result == ([0, 2], 6, 4)\n",
        "assert t2_pw_result == ([2, 0], 6, 4)\n",
        "\n",
        "t3_profits = np.array([3, 2, 1, 2, 3, 1])\n",
        "t3_weights = np.array([10, 12, 16, 17, 18, 5])\n",
        "t3_capacity = 22\n",
        "t3_knapsac = KnapSack(t3_profits, t3_weights, t3_capacity)\n",
        "t3_bf_result = t3_knapsac.solve_knapsack_brute_force()\n",
        "t3_pw_result = t3_knapsac.solve_knapsack_pw_ratio()\n",
        "\n",
        "assert t3_bf_result == ([0, 1], 5, 22)\n",
        "assert t3_pw_result == ([0, 5], 4, 15)\n"
      ]
    },
    {
      "cell_type": "code",
      "execution_count": 5,
      "metadata": {
        "id": "Z5BRqAUMlvtl"
      },
      "outputs": [],
      "source": [
        "import time\n",
        "import matplotlib.pyplot as plt"
      ]
    },
    {
      "cell_type": "code",
      "execution_count": 6,
      "metadata": {
        "id": "C7iJYgtMet0g"
      },
      "outputs": [],
      "source": [
        "def get_average_times_of_bf_solve(n, max_number_of_items):\n",
        "  \"\"\"\n",
        "  Calculate the average of running brute force solve n times.\n",
        "  For numbers from 1 to max_number_of_items\n",
        "  check how long it takes the brute force method to run.\n",
        "  Sum the running times for each number of items and return the average\n",
        "  \"\"\"\n",
        "  sum_times = np.zeros(max_number_of_items)\n",
        "  weights = np.ones(max_number_of_items)\n",
        "  profits = np.ones(max_number_of_items)\n",
        "  capacity = max_number_of_items\n",
        "\n",
        "  for _ in range(n):\n",
        "    running_times = np.zeros(max_number_of_items)\n",
        "    for n in range(max_number_of_items):\n",
        "      t1 = KnapSack(profits[:n+1], weights[:n+1], capacity)\n",
        "      start_time = time.time()\n",
        "      t1.solve_knapsack_brute_force()\n",
        "      end_time = time.time()\n",
        "      running_times[n] = end_time - start_time\n",
        "    sum_times = sum_times + running_times\n",
        "  average_times = sum_times / n\n",
        "  return(average_times)"
      ]
    },
    {
      "cell_type": "code",
      "execution_count": 7,
      "metadata": {
        "colab": {
          "base_uri": "https://localhost:8080/",
          "height": 449
        },
        "id": "FPdVqNigiImG",
        "outputId": "1624fedc-8ab7-4a11-ee35-fd84c5372b63"
      },
      "outputs": [
        {
          "data": {
            "image/png": "[encoded data removed]",
            "text/plain": [
              "<Figure size 640x480 with 1 Axes>"
            ]
          },
          "metadata": {},
          "output_type": "display_data"
        }
      ],
      "source": [
        "max_number_of_items = 10\n",
        "average_times = get_average_times_of_bf_solve(50, max_number_of_items)\n",
        "plt.scatter(range(1, max_number_of_items + 1), average_times)\n",
        "#plt.axis(xmin = 0, xmax = max_number_of_items + 1)\n",
        "#plt.xlabel(\"Number of items\")\n",
        "#plt.ylabel(\"Average running time of the brute force method\")\n",
        "plt.show()"
      ]
    },
    {
      "cell_type": "code",
      "execution_count": 8,
      "metadata": {
        "colab": {
          "base_uri": "https://localhost:8080/",
          "height": 430
        },
        "id": "qvhjdb6MmVGT",
        "outputId": "6050f1b7-95f9-4412-bbd8-65210cbf40fb"
      },
      "outputs": [
        {
          "data": {
            "image/png": "[encoded data removed]",
            "text/plain": [
              "<Figure size 640x480 with 1 Axes>"
            ]
          },
          "metadata": {},
          "output_type": "display_data"
        }
      ],
      "source": [
        "plt.plot(range(1, max_number_of_items + 1), average_times)\n",
        "plt.show()"
      ]
    },
    {
      "cell_type": "markdown",
      "metadata": {},
      "source": [
        "### Wnioski\n",
        "\n",
        "Te dwie metody niekoniecznie dają taki sam rezultat. Metoda brute force wybiera zawsze optymalny zestaw przedmiotów, jednak jest bardziej czasochłonna niż metoda zabierania przedmitów o najlepszym stosunku wartości do masy. Zadana metoda heurystyczna zwraca najelpszy zestaw przedmitów tylko w optymistycznych przypadkach. Zatem można stwierdzić, że strategia, polegająca na pakowaniu przedmitów o największym stosunku wartości do masy, nie jest optymalna, jeżeli chodzi o wybór przedmiotów. Jest ona jednak stosunkowo prosta w implementacji, a także posiada lepszą złożoność obliczeniową niż metoda brute force."
      ]
    }
  ],
  "metadata": {
    "colab": {
      "provenance": []
    },
    "kernelspec": {
      "display_name": "Python 3",
      "name": "python3"
    },
    "language_info": {
      "codemirror_mode": {
        "name": "ipython",
        "version": 3
      },
      "file_extension": ".py",
      "mimetype": "text/x-python",
      "name": "python",
      "nbconvert_exporter": "python",
      "pygments_lexer": "ipython3",
      "version": "3.10.4"
    }
  },
  "nbformat": 4,
  "nbformat_minor": 0
}
