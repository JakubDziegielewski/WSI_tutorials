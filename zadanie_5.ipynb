{
  "cells": [
    {
      "cell_type": "markdown",
      "metadata": {
        "collapsed": false
      },
      "source": [
        "# Zadanie 5\n",
        "\n",
        "Celem ćwiczenia jest implementacja algorytmu Q-learning.\n",
        "\n",
        "Następnie należy stworzyć agenta rozwiązującego problem [Taxi](https://gymnasium.farama.org/environments/toy_text/taxi/). Problem dostępny jest w pakiecie **gym**.\n",
        "\n",
        "Punktacja (max 7 pkt):\n",
        "- Implementacja algorytmu Q-learning. [3 pkt]\n",
        "- Eksperymenty dla różnych wartości hiperparametrów [2 pkt]\n",
        "- Jakość kodu [1 pkt]\n",
        "- Wnioski [1 pkt]\n"
      ]
    },
    {
      "cell_type": "code",
      "execution_count": 8,
      "metadata": {
        "collapsed": false
      },
      "outputs": [],
      "source": [
        "import numpy as np\n",
        "import gymnasium as gym"
      ]
    },
    {
      "cell_type": "code",
      "execution_count": 9,
      "metadata": {
        "collapsed": false
      },
      "outputs": [],
      "source": [
        "class QLearningSolver:\n",
        "    \"\"\"Class containing the Q-learning algorithm that might be used for different discrete environments.\"\"\"\n",
        "\n",
        "    def __init__(\n",
        "        self,\n",
        "        observation_space: int,\n",
        "        action_space: int,\n",
        "        learning_rate: float = 0.9,\n",
        "        gamma: float = 0.9,\n",
        "        epsilon: float = 0.1,\n",
        "        q_table: np.ndarray = None,\n",
        "    ):\n",
        "        self.observation_space = observation_space\n",
        "        self.action_space = action_space\n",
        "        self.learning_rate = learning_rate\n",
        "        self.gamma = gamma\n",
        "        self.epsilon = epsilon\n",
        "        if q_table is None:\n",
        "            self.q_table = np.zeros(shape=(observation_space, action_space))\n",
        "        else:\n",
        "            self.q_table = q_table\n",
        "\n",
        "    def __call__(self, state: np.ndarray, action: np.ndarray) -> float:\n",
        "        \"\"\"Return Q-value of given state and action.\"\"\"\n",
        "        return self.q_table[state][action]\n",
        "\n",
        "    def update(self, state: np.ndarray, action: np.ndarray, reward: float) -> None:\n",
        "        \"\"\"Update Q-value of given state and action.\"\"\"\n",
        "        self.q_table[state][action] += reward\n",
        "\n",
        "    def get_best_action(self, state: np.ndarray) -> int:\n",
        "        \"\"\"Return action that maximizes Q-value for a given state.\"\"\"\n",
        "        return np.argmax(self.q_table[state])\n",
        "\n",
        "    def get_best_move_evaluation(self, state: np.array) -> float:\n",
        "        return np.max(self.q_table[state])\n",
        "\n",
        "    def __repr__(self):\n",
        "        \"\"\"Elegant representation of Q-learning solver.\"\"\"\n",
        "        pass\n",
        "\n",
        "    def __str__(self):\n",
        "        return self.__repr__()"
      ]
    },
    {
      "cell_type": "code",
      "execution_count": 10,
      "metadata": {},
      "outputs": [],
      "source": [
        "def run_episode(solver: QLearningSolver, environment):\n",
        "    \"\"\"\n",
        "    Episode starts in random state.\n",
        "    Then decide whether to use q_table or make perform random action.\n",
        "    Get the reward of chosen action and update the q_table.\n",
        "    \"\"\"\n",
        "    state = environment.reset()[0]\n",
        "    terminated, truncated = False, False\n",
        "    while not terminated and not truncated:\n",
        "        if np.random.random() < solver.epsilon:\n",
        "            action = environment.action_space.sample()\n",
        "        else:\n",
        "            action = solver.get_best_action(state)\n",
        "\n",
        "        next_state, reward, terminated, truncated, _ = environment.step(action)\n",
        "        delta = (\n",
        "            reward\n",
        "            + solver.gamma * solver.get_best_move_evaluation(next_state)\n",
        "            - solver(state, action)\n",
        "        )\n",
        "        solver.update(state, action, solver.learning_rate * delta)\n",
        "        state = next_state\n",
        "\n",
        "\n",
        "def q_learning(\n",
        "    environment, learning_rate=0.9, gamma=0.9, epsilon=0.1, number_of_episodes=1000\n",
        "):\n",
        "    \"\"\"\n",
        "    Run n episodes, which will allow QLearningSolver with specified parameters to learn\n",
        "    \"\"\"\n",
        "    solver = QLearningSolver(\n",
        "        environment.observation_space.n,\n",
        "        environment.action_space.n,\n",
        "        learning_rate,\n",
        "        gamma,\n",
        "        epsilon,\n",
        "    )\n",
        "    for _ in range(number_of_episodes):\n",
        "        run_episode(solver, environment)\n",
        "    return solver"
      ]
    },
    {
      "cell_type": "code",
      "execution_count": 11,
      "metadata": {},
      "outputs": [],
      "source": [
        "def test_solver(solver: QLearningSolver, environment, number_of_tests: int = 1000):\n",
        "    \"\"\"\n",
        "    Method for testing QLearningSolvers;\n",
        "    Checks whether a solver can reach the reward from a random state n times.\n",
        "    Returns the success rate and average number of steps.\n",
        "    \"\"\"\n",
        "    successes = 0\n",
        "    total_steps = 0\n",
        "    for _ in range(number_of_tests):\n",
        "        state = environment.reset()[0]\n",
        "        terminated, truncated = False, False\n",
        "        steps = 0\n",
        "        while not terminated and not truncated:\n",
        "            action = solver.get_best_action(state)\n",
        "            next_state, reward, terminated, truncated = environment.step(action)[:4]\n",
        "            state = next_state\n",
        "            steps += 1\n",
        "        if terminated and reward > 0:\n",
        "            successes += 1\n",
        "        total_steps += steps\n",
        "    return successes / number_of_tests, total_steps / number_of_tests"
      ]
    },
    {
      "cell_type": "code",
      "execution_count": 12,
      "metadata": {},
      "outputs": [],
      "source": [
        "def run_experiment(\n",
        "    env, learning_rate=0.9, gamma=0.9, epsilon=0.1, number_of_episodes=1000\n",
        "):\n",
        "    solver = q_learning(env, learning_rate, gamma, epsilon, number_of_episodes)\n",
        "    success_rate, average_number_of_steps = test_solver(solver, env)\n",
        "    print(\"LEARNING:\")\n",
        "    print(\n",
        "        f\"Learning rate: {learning_rate}, gamma: {gamma}, epsilon: {epsilon}, number of episodes: {number_of_episodes}\"\n",
        "    )\n",
        "    print(\"TESTING:\")\n",
        "    print(\n",
        "        f\"Success Rate: {success_rate}\\nAverage number of steps: {average_number_of_steps}\"\n",
        "    )"
      ]
    },
    {
      "cell_type": "markdown",
      "metadata": {},
      "source": [
        "# Testy"
      ]
    },
    {
      "cell_type": "code",
      "execution_count": 13,
      "metadata": {},
      "outputs": [],
      "source": [
        "env = gym.make(\"Taxi-v3\")"
      ]
    },
    {
      "cell_type": "code",
      "execution_count": 14,
      "metadata": {},
      "outputs": [
        {
          "name": "stdout",
          "output_type": "stream",
          "text": [
            "LEARNING:\n",
            "Learning rate: 0.9, gamma: 0.9, epsilon: 0.1, number of episodes: 1000\n",
            "TESTING:\n",
            "Success Rate: 0.977\n",
            "Average number of steps: 17.47\n"
          ]
        }
      ],
      "source": [
        "run_experiment(env)"
      ]
    },
    {
      "cell_type": "code",
      "execution_count": 15,
      "metadata": {},
      "outputs": [
        {
          "name": "stdout",
          "output_type": "stream",
          "text": [
            "LEARNING:\n",
            "Learning rate: 0.9, gamma: 0.9, epsilon: 0.1, number of episodes: 800\n",
            "TESTING:\n",
            "Success Rate: 0.933\n",
            "Average number of steps: 25.681\n"
          ]
        }
      ],
      "source": [
        "run_experiment(env, number_of_episodes=800)"
      ]
    },
    {
      "cell_type": "code",
      "execution_count": 16,
      "metadata": {},
      "outputs": [
        {
          "name": "stdout",
          "output_type": "stream",
          "text": [
            "LEARNING:\n",
            "Learning rate: 0.9, gamma: 0.9, epsilon: 0.1, number of episodes: 600\n",
            "TESTING:\n",
            "Success Rate: 0.899\n",
            "Average number of steps: 31.923\n"
          ]
        }
      ],
      "source": [
        "run_experiment(env, number_of_episodes=600)"
      ]
    },
    {
      "cell_type": "code",
      "execution_count": 17,
      "metadata": {},
      "outputs": [
        {
          "name": "stdout",
          "output_type": "stream",
          "text": [
            "LEARNING:\n",
            "Learning rate: 0.9, gamma: 0.9, epsilon: 0.1, number of episodes: 1500\n",
            "TESTING:\n",
            "Success Rate: 0.998\n",
            "Average number of steps: 13.55\n"
          ]
        }
      ],
      "source": [
        "run_experiment(env, number_of_episodes=1500)"
      ]
    },
    {
      "cell_type": "code",
      "execution_count": 18,
      "metadata": {},
      "outputs": [
        {
          "name": "stdout",
          "output_type": "stream",
          "text": [
            "LEARNING:\n",
            "Learning rate: 0.9, gamma: 0.7, epsilon: 0.1, number of episodes: 1000\n",
            "TESTING:\n",
            "Success Rate: 0.958\n",
            "Average number of steps: 20.9\n"
          ]
        }
      ],
      "source": [
        "run_experiment(env, gamma = 0.7)"
      ]
    },
    {
      "cell_type": "code",
      "execution_count": 19,
      "metadata": {},
      "outputs": [
        {
          "name": "stdout",
          "output_type": "stream",
          "text": [
            "LEARNING:\n",
            "Learning rate: 0.9, gamma: 0.7, epsilon: 0.1, number of episodes: 1500\n",
            "TESTING:\n",
            "Success Rate: 0.991\n",
            "Average number of steps: 14.84\n"
          ]
        }
      ],
      "source": [
        "run_experiment(env, gamma = 0.7, number_of_episodes=1500)"
      ]
    },
    {
      "cell_type": "code",
      "execution_count": 20,
      "metadata": {},
      "outputs": [
        {
          "name": "stdout",
          "output_type": "stream",
          "text": [
            "LEARNING:\n",
            "Learning rate: 0.6, gamma: 0.9, epsilon: 0.1, number of episodes: 1000\n",
            "TESTING:\n",
            "Success Rate: 0.973\n",
            "Average number of steps: 18.019\n"
          ]
        }
      ],
      "source": [
        "run_experiment(env, learning_rate=0.6)"
      ]
    },
    {
      "cell_type": "code",
      "execution_count": 21,
      "metadata": {},
      "outputs": [
        {
          "name": "stdout",
          "output_type": "stream",
          "text": [
            "LEARNING:\n",
            "Learning rate: 0.8, gamma: 0.9, epsilon: 0.5, number of episodes: 1000\n",
            "TESTING:\n",
            "Success Rate: 0.991\n",
            "Average number of steps: 14.724\n"
          ]
        }
      ],
      "source": [
        "run_experiment(env, learning_rate=0.8, epsilon=0.5)"
      ]
    },
    {
      "cell_type": "code",
      "execution_count": 22,
      "metadata": {},
      "outputs": [
        {
          "name": "stdout",
          "output_type": "stream",
          "text": [
            "LEARNING:\n",
            "Learning rate: 0.5, gamma: 0.9, epsilon: 0.5, number of episodes: 1000\n",
            "TESTING:\n",
            "Success Rate: 0.97\n",
            "Average number of steps: 18.644\n"
          ]
        }
      ],
      "source": [
        "run_experiment(env, learning_rate=0.5, epsilon=0.5)"
      ]
    },
    {
      "cell_type": "code",
      "execution_count": 23,
      "metadata": {},
      "outputs": [
        {
          "name": "stdout",
          "output_type": "stream",
          "text": [
            "LEARNING:\n",
            "Learning rate: 0.1, gamma: 0.9, epsilon: 0.5, number of episodes: 1000\n",
            "TESTING:\n",
            "Success Rate: 0.422\n",
            "Average number of steps: 120.183\n"
          ]
        }
      ],
      "source": [
        "run_experiment(env, learning_rate=0.1, epsilon=0.5)"
      ]
    },
    {
      "cell_type": "code",
      "execution_count": 41,
      "metadata": {},
      "outputs": [
        {
          "name": "stdout",
          "output_type": "stream",
          "text": [
            "LEARNING:\n",
            "Learning rate: 0.1, gamma: 0.9, epsilon: 0.5, number of episodes: 2500\n",
            "TESTING:\n",
            "Success Rate: 0.955\n",
            "Average number of steps: 21.239\n"
          ]
        }
      ],
      "source": [
        "run_experiment(env, learning_rate=0.1, epsilon=0.5, number_of_episodes=2500)"
      ]
    },
    {
      "cell_type": "code",
      "execution_count": 24,
      "metadata": {},
      "outputs": [
        {
          "name": "stdout",
          "output_type": "stream",
          "text": [
            "LEARNING:\n",
            "Learning rate: 0.9, gamma: 0.9, epsilon: 0.5, number of episodes: 1000\n",
            "TESTING:\n",
            "Success Rate: 0.992\n",
            "Average number of steps: 14.555\n"
          ]
        }
      ],
      "source": [
        "run_experiment(env, learning_rate=0.9, epsilon=0.5)"
      ]
    },
    {
      "cell_type": "code",
      "execution_count": 25,
      "metadata": {},
      "outputs": [
        {
          "name": "stdout",
          "output_type": "stream",
          "text": [
            "LEARNING:\n",
            "Learning rate: 0.9, gamma: 0.9, epsilon: 0.25, number of episodes: 1000\n",
            "TESTING:\n",
            "Success Rate: 0.989\n",
            "Average number of steps: 15.319\n"
          ]
        }
      ],
      "source": [
        "run_experiment(env, learning_rate=0.9, gamma=0.9, epsilon=0.25)"
      ]
    },
    {
      "cell_type": "code",
      "execution_count": 26,
      "metadata": {},
      "outputs": [
        {
          "name": "stdout",
          "output_type": "stream",
          "text": [
            "LEARNING:\n",
            "Learning rate: 0.2, gamma: 0.9, epsilon: 0.4, number of episodes: 2500\n",
            "TESTING:\n",
            "Success Rate: 0.999\n",
            "Average number of steps: 13.187\n"
          ]
        }
      ],
      "source": [
        "run_experiment(env, learning_rate=0.2, gamma=0.9, epsilon=0.4, number_of_episodes=2500)"
      ]
    },
    {
      "cell_type": "code",
      "execution_count": 27,
      "metadata": {},
      "outputs": [
        {
          "name": "stdout",
          "output_type": "stream",
          "text": [
            "LEARNING:\n",
            "Learning rate: 0.2, gamma: 0.9, epsilon: 0.4, number of episodes: 1000\n",
            "TESTING:\n",
            "Success Rate: 0.813\n",
            "Average number of steps: 47.504\n"
          ]
        }
      ],
      "source": [
        "run_experiment(env, learning_rate=0.2, gamma=0.9, epsilon=0.4)"
      ]
    },
    {
      "cell_type": "code",
      "execution_count": 28,
      "metadata": {},
      "outputs": [
        {
          "name": "stdout",
          "output_type": "stream",
          "text": [
            "LEARNING:\n",
            "Learning rate: 0.8, gamma: 0.4, epsilon: 0.4, number of episodes: 1000\n",
            "TESTING:\n",
            "Success Rate: 0.871\n",
            "Average number of steps: 36.931\n"
          ]
        }
      ],
      "source": [
        "run_experiment(env, learning_rate=0.8, gamma=0.4, epsilon=0.4)"
      ]
    },
    {
      "cell_type": "code",
      "execution_count": 29,
      "metadata": {},
      "outputs": [
        {
          "name": "stdout",
          "output_type": "stream",
          "text": [
            "LEARNING:\n",
            "Learning rate: 0.8, gamma: 0.4, epsilon: 0.7, number of episodes: 1000\n",
            "TESTING:\n",
            "Success Rate: 0.969\n",
            "Average number of steps: 18.758\n"
          ]
        }
      ],
      "source": [
        "run_experiment(env, learning_rate=0.8, gamma=0.4, epsilon=0.7)"
      ]
    },
    {
      "cell_type": "code",
      "execution_count": 30,
      "metadata": {},
      "outputs": [
        {
          "name": "stdout",
          "output_type": "stream",
          "text": [
            "LEARNING:\n",
            "Learning rate: 0.9, gamma: 0.4, epsilon: 0.4, number of episodes: 1000\n",
            "TESTING:\n",
            "Success Rate: 0.925\n",
            "Average number of steps: 26.861\n"
          ]
        }
      ],
      "source": [
        "run_experiment(env, learning_rate=0.9, gamma=0.4, epsilon=0.4)"
      ]
    },
    {
      "cell_type": "code",
      "execution_count": 31,
      "metadata": {},
      "outputs": [
        {
          "name": "stdout",
          "output_type": "stream",
          "text": [
            "LEARNING:\n",
            "Learning rate: 0.99, gamma: 0.8, epsilon: 0.2, number of episodes: 1000\n",
            "TESTING:\n",
            "Success Rate: 0.982\n",
            "Average number of steps: 16.543\n"
          ]
        }
      ],
      "source": [
        "run_experiment(env, learning_rate=0.99, gamma=0.8, epsilon=0.2, number_of_episodes=1000)"
      ]
    },
    {
      "cell_type": "code",
      "execution_count": 32,
      "metadata": {},
      "outputs": [
        {
          "name": "stdout",
          "output_type": "stream",
          "text": [
            "LEARNING:\n",
            "Learning rate: 0.7, gamma: 0.8, epsilon: 0.2, number of episodes: 1000\n",
            "TESTING:\n",
            "Success Rate: 0.97\n",
            "Average number of steps: 18.674\n"
          ]
        }
      ],
      "source": [
        "run_experiment(env, learning_rate=0.7, gamma=0.8, epsilon=0.2, number_of_episodes=1000)"
      ]
    },
    {
      "cell_type": "code",
      "execution_count": 34,
      "metadata": {},
      "outputs": [
        {
          "name": "stdout",
          "output_type": "stream",
          "text": [
            "LEARNING:\n",
            "Learning rate: 0.9, gamma: 0.9, epsilon: 0.3, number of episodes: 500\n",
            "TESTING:\n",
            "Success Rate: 0.858\n",
            "Average number of steps: 39.273\n"
          ]
        }
      ],
      "source": [
        "run_experiment(env, learning_rate=0.9, gamma=0.9, epsilon=0.3, number_of_episodes=500)"
      ]
    },
    {
      "cell_type": "code",
      "execution_count": 35,
      "metadata": {},
      "outputs": [
        {
          "name": "stdout",
          "output_type": "stream",
          "text": [
            "LEARNING:\n",
            "Learning rate: 0.9, gamma: 0.9, epsilon: 0.3, number of episodes: 300\n",
            "TESTING:\n",
            "Success Rate: 0.699\n",
            "Average number of steps: 68.855\n"
          ]
        }
      ],
      "source": [
        "run_experiment(env, learning_rate=0.9, gamma=0.9, epsilon=0.3, number_of_episodes=300)"
      ]
    },
    {
      "cell_type": "code",
      "execution_count": 39,
      "metadata": {},
      "outputs": [
        {
          "name": "stdout",
          "output_type": "stream",
          "text": [
            "LEARNING:\n",
            "Learning rate: 0.9, gamma: 0.9, epsilon: 0.3, number of episodes: 200\n",
            "TESTING:\n",
            "Success Rate: 0.355\n",
            "Average number of steps: 133.094\n"
          ]
        }
      ],
      "source": [
        "run_experiment(env, learning_rate=0.9, gamma=0.9, epsilon=0.3, number_of_episodes=200)"
      ]
    },
    {
      "cell_type": "code",
      "execution_count": 33,
      "metadata": {},
      "outputs": [],
      "source": [
        "\n",
        "solver = q_learning(\n",
        "    env, learning_rate=0.9, gamma=0.9, epsilon=0.4, number_of_episodes=1000\n",
        ")\n",
        "np.save(\"solver\", solver.q_table)"
      ]
    },
    {
      "cell_type": "markdown",
      "metadata": {
        "collapsed": false
      },
      "source": [
        "# Wnioski"
      ]
    },
    {
      "cell_type": "markdown",
      "metadata": {},
      "source": [
        "Skuteczność algorytmu QLearning w dużym stopniu zależy od poziomu skomplikowania środowisk i dopowiedniego doboru hiperparametrów. \n",
        "\n",
        "Jeśli epsilon jest zbyt mały, przestrzeń nie będzie eksplorowana w odpowiednim stopniu, jednak jeśli epsilon będzie zbyt duży, zdobyta wiedza będzie wykorzystywana w małym stopniu, a co za tym idzie algorytm może nie dojść do stanu akceptującego w rozsądnym czasie.\n",
        "\n",
        "Zbyt duży learning rate powoduje, że to czego algorytm nauczy się w początkowych epizodach może zostać zapomniane w trakcie późniejszych epizodów, co poskutkuje obniżeniem skuteczności. Jednak mniejszy learning rate, sprawia że potrzeba większej liczby epizodów trenujących do uzyskania satysfakcjonujących wyników. \n",
        "\n",
        "Gamma jest odpowiedzialna za szybkość dążenia do potencjalnych nagród. Duża wartość parametru, wskazuje że preferowane są większe nagrody, nawet jeśli do ich uzysania należy poświęcić więcej wysiłku (preferencja nagród długoterminowych). Zbyt duża wartość gammy prowadzi do małej eksploatacji, natomiast zbyt mała gamma prowadzi do za małej eksploracji.\n",
        "\n",
        "W skomplikowanych środowiskach pomocne okazać się może zmniejszanie hiperparametrów epsilon i learning rate wraz ze wzrostem wiedzy na temat środowiska, a także zmniejszanie parametru gamma w późniejszych fazach każdego epizodu. Zmniejszanie epsilonu pozwala na wykorzystanie zdobytej wiedzy, dzięki czemu algorytm nie musi się uczyć kilka razy tych samych ścieżek. Dzięki zmniejszeniu learning rate algorytm nie zapomina informacji, które zdobył w trakcie wcześniejszych epizodów. Stopniowe zmniejszanie parametru gamma w każdym epizodzie może pozwolić na preferowanie szybkich nagród, w późniejszych fragmentach epizodu, czyli kiedy algorytm nie ma dużo czasu na próby zdobycia nagród długoterminowych."
      ]
    }
  ],
  "metadata": {
    "kernelspec": {
      "display_name": "Python 3",
      "language": "python",
      "name": "python3"
    },
    "language_info": {
      "codemirror_mode": {
        "name": "ipython",
        "version": 3
      },
      "file_extension": ".py",
      "mimetype": "text/x-python",
      "name": "python",
      "nbconvert_exporter": "python",
      "pygments_lexer": "ipython3",
      "version": "3.12.0"
    },
    "nteract": {
      "version": "nteract-front-end@1.0.0"
    }
  },
  "nbformat": 4,
  "nbformat_minor": 0
}
