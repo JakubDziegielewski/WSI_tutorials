{
  "cells": [
    {
      "cell_type": "markdown",
      "metadata": {
        "collapsed": false
      },
      "source": [
        "# Zadanie 5\n",
        "\n",
        "Celem ćwiczenia jest implementacja algorytmu Q-learning.\n",
        "\n",
        "Następnie należy stworzyć agenta rozwiązującego problem [Taxi](https://gymnasium.farama.org/environments/toy_text/taxi/). Problem dostępny jest w pakiecie **gym**.\n",
        "\n",
        "Punktacja (max 7 pkt):\n",
        "- Implementacja algorytmu Q-learning. [3 pkt]\n",
        "- Eksperymenty dla różnych wartości hiperparametrów [2 pkt]\n",
        "- Jakość kodu [1 pkt]\n",
        "- Wnioski [1 pkt]\n"
      ]
    },
    {
      "cell_type": "code",
      "execution_count": 121,
      "metadata": {
        "collapsed": false
      },
      "outputs": [],
      "source": [
        "import numpy as np\n",
        "import gymnasium as gym\n",
        "from IPython.display import clear_output\n",
        "import random"
      ]
    },
    {
      "cell_type": "code",
      "execution_count": 122,
      "metadata": {
        "collapsed": false
      },
      "outputs": [],
      "source": [
        "class QLearningSolver:\n",
        "    \"\"\"Class containing the Q-learning algorithm that might be used for different discrete environments.\"\"\"\n",
        "\n",
        "    def __init__(\n",
        "        self,\n",
        "        observation_space: int,\n",
        "        action_space: int,\n",
        "        learning_rate: float = 0.9,\n",
        "        gamma: float = 0.9,\n",
        "        epsilon: float = 0.1,\n",
        "        q_table: np.ndarray = None\n",
        "    ):\n",
        "        self.observation_space = observation_space\n",
        "        self.action_space = action_space\n",
        "        self.learning_rate = learning_rate\n",
        "        self.gamma = gamma\n",
        "        self.epsilon = epsilon\n",
        "        if q_table is None:\n",
        "            self.q_table = np.zeros(shape=(observation_space, action_space))\n",
        "        else:\n",
        "            self.q_table = q_table\n",
        "\n",
        "    def __call__(self, state: np.ndarray, action: np.ndarray) -> float:\n",
        "        \"\"\"Return Q-value of given state and action.\"\"\"\n",
        "        return self.q_table[state][action]\n",
        "\n",
        "    def update(self, state: np.ndarray, action: np.ndarray, reward: float) -> None:\n",
        "        \"\"\"Update Q-value of given state and action.\"\"\"\n",
        "        self.q_table[state][action] += reward\n",
        "\n",
        "    def get_best_action(self, state: np.ndarray) -> int:\n",
        "        \"\"\"Return action that maximizes Q-value for a given state.\"\"\"\n",
        "        return np.argmax(self.q_table[state])\n",
        "    \n",
        "    def get_best_move_evaluation(self, state: np.array) ->float:\n",
        "        return np.max(self.q_table[state])\n",
        "\n",
        "    def __repr__(self):\n",
        "        \"\"\"Elegant representation of Q-learning solver.\"\"\"\n",
        "        pass\n",
        "\n",
        "    def __str__(self):\n",
        "        return self.__repr__()"
      ]
    },
    {
      "cell_type": "code",
      "execution_count": 123,
      "metadata": {},
      "outputs": [],
      "source": [
        "def run_episode(solver: QLearningSolver, environment):\n",
        "    state = environment.reset()[0]\n",
        "    terminated, truncated = False, False\n",
        "    \n",
        "    while not terminated and not truncated:\n",
        "        if np.random.random() < solver.epsilon:\n",
        "            action = environment.action_space.sample()\n",
        "        else:\n",
        "            action = solver.get_best_action(state)\n",
        "            \n",
        "        next_state, reward, terminated, truncated, _ = environment.step(action)\n",
        "        delta = reward + solver.gamma * solver.get_best_move_evaluation(next_state) - solver(state, action)\n",
        "        solver.update(state, action, solver.learning_rate * delta)\n",
        "        state = next_state\n",
        "\n",
        "def q_learning(environment, learning_rate = 0.1, epsilon = 0.1, gamma = 0.9, number_of_episodes = 10000):\n",
        "    solver = QLearningSolver(environment.observation_space.n, environment.action_space.n, learning_rate, gamma, epsilon)\n",
        "    for i in range(number_of_episodes):\n",
        "        run_episode(solver, environment)\n",
        "        if (i+1) % 100 == 0:\n",
        "          clear_output(wait=True)\n",
        "          print(f\"Episode: {i+1}\")\n",
        "    return solver"
      ]
    },
    {
      "cell_type": "code",
      "execution_count": 124,
      "metadata": {},
      "outputs": [],
      "source": [
        "def test_solver(solver: QLearningSolver, environment, number_of_tests : int =100, max_steps = 50):\n",
        "    successes = 0\n",
        "    total_steps = 0\n",
        "    for _ in range(number_of_tests):\n",
        "        state = environment.reset()[0]\n",
        "        terminated, truncated = False, False\n",
        "        steps = 0\n",
        "        while not terminated and not truncated and steps < max_steps:\n",
        "            action = solver.get_best_action(state)\n",
        "            next_state, _, terminated, truncated = environment.step(action)[:4]\n",
        "            state = next_state\n",
        "            steps += 1\n",
        "        if terminated:\n",
        "            successes +=1\n",
        "        total_steps += steps\n",
        "    print(f\"Success ratio: {successes/number_of_tests}\\nAverage number of steps: {total_steps/number_of_tests}\")\n",
        "        \n",
        "        "
      ]
    },
    {
      "cell_type": "markdown",
      "metadata": {},
      "source": [
        "# Testy"
      ]
    },
    {
      "cell_type": "code",
      "execution_count": 125,
      "metadata": {},
      "outputs": [
        {
          "name": "stdout",
          "output_type": "stream",
          "text": [
            "Episode: 10000\n",
            "Success ratio: 1.0\n",
            "Average number of steps: 13.123\n"
          ]
        }
      ],
      "source": [
        "env = gym.make(\"Taxi-v3\")\n",
        "#default hiperparameters\n",
        "solver = q_learning(env, learning_rate = 0.9, epsilon = 0.1, gamma = 0.9, number_of_episodes = 10000)\n",
        "np.save(\"solver\", solver.q_table)\n",
        "test_solver(solver, env, number_of_tests=1000)"
      ]
    },
    {
      "cell_type": "code",
      "execution_count": 126,
      "metadata": {},
      "outputs": [
        {
          "name": "stdout",
          "output_type": "stream",
          "text": [
            "Episode: 4000\n",
            "Success ratio: 0.998\n",
            "Average number of steps: 13.155\n"
          ]
        }
      ],
      "source": [
        "solver = q_learning(env, gamma=0.9, number_of_episodes=4000)\n",
        "test_solver(solver, env, number_of_tests=1000)"
      ]
    },
    {
      "cell_type": "code",
      "execution_count": 127,
      "metadata": {},
      "outputs": [
        {
          "name": "stdout",
          "output_type": "stream",
          "text": [
            "Episode: 4000\n",
            "Success ratio: 0.934\n",
            "Average number of steps: 15.366\n"
          ]
        }
      ],
      "source": [
        "solver = q_learning(env, gamma=0.8, number_of_episodes=4000)\n",
        "test_solver(solver, env, number_of_tests=1000)"
      ]
    },
    {
      "cell_type": "code",
      "execution_count": 128,
      "metadata": {},
      "outputs": [
        {
          "name": "stdout",
          "output_type": "stream",
          "text": [
            "Episode: 4000\n",
            "Success ratio: 0.766\n",
            "Average number of steps: 21.186\n"
          ]
        }
      ],
      "source": [
        "solver = q_learning(env, gamma=0.7, number_of_episodes=4000)\n",
        "test_solver(solver, env, number_of_tests=1000)"
      ]
    },
    {
      "cell_type": "code",
      "execution_count": 129,
      "metadata": {},
      "outputs": [
        {
          "name": "stdout",
          "output_type": "stream",
          "text": [
            "Episode: 4000\n",
            "Success ratio: 0.543\n",
            "Average number of steps: 29.307\n"
          ]
        }
      ],
      "source": [
        "solver = q_learning(env, gamma=0.5, number_of_episodes=4000)\n",
        "test_solver(solver, env, number_of_tests=1000)"
      ]
    },
    {
      "cell_type": "code",
      "execution_count": 130,
      "metadata": {},
      "outputs": [
        {
          "name": "stdout",
          "output_type": "stream",
          "text": [
            "Episode: 4000\n",
            "Success ratio: 0.314\n",
            "Average number of steps: 37.937\n"
          ]
        }
      ],
      "source": [
        "solver = q_learning(env, gamma=0.1, number_of_episodes=4000)\n",
        "test_solver(solver, env, number_of_tests=1000)"
      ]
    },
    {
      "cell_type": "code",
      "execution_count": 131,
      "metadata": {},
      "outputs": [
        {
          "name": "stdout",
          "output_type": "stream",
          "text": [
            "Episode: 2000\n",
            "Success ratio: 0.83\n",
            "Average number of steps: 18.901\n"
          ]
        }
      ],
      "source": [
        "solver = q_learning(env, epsilon=0.1, number_of_episodes=2000)\n",
        "test_solver(solver, env, number_of_tests=1000)"
      ]
    },
    {
      "cell_type": "code",
      "execution_count": 132,
      "metadata": {},
      "outputs": [
        {
          "name": "stdout",
          "output_type": "stream",
          "text": [
            "Episode: 2000\n",
            "Success ratio: 0.846\n",
            "Average number of steps: 18.302\n"
          ]
        }
      ],
      "source": [
        "solver = q_learning(env, epsilon=0.2, number_of_episodes=2000)\n",
        "test_solver(solver, env, number_of_tests=1000)"
      ]
    },
    {
      "cell_type": "code",
      "execution_count": 133,
      "metadata": {},
      "outputs": [
        {
          "name": "stdout",
          "output_type": "stream",
          "text": [
            "Episode: 2000\n",
            "Success ratio: 0.863\n",
            "Average number of steps: 17.725\n"
          ]
        }
      ],
      "source": [
        "solver = q_learning(env, epsilon=0.3, number_of_episodes=2000)\n",
        "test_solver(solver, env, number_of_tests=1000)"
      ]
    },
    {
      "cell_type": "code",
      "execution_count": 144,
      "metadata": {},
      "outputs": [
        {
          "name": "stdout",
          "output_type": "stream",
          "text": [
            "Episode: 2000\n",
            "Success ratio: 0.92\n",
            "Average number of steps: 15.724\n"
          ]
        }
      ],
      "source": [
        "solver = q_learning(env, epsilon=0.7, number_of_episodes=2000)\n",
        "test_solver(solver, env, number_of_tests=1000)"
      ]
    },
    {
      "cell_type": "code",
      "execution_count": 135,
      "metadata": {},
      "outputs": [
        {
          "name": "stdout",
          "output_type": "stream",
          "text": [
            "Episode: 2000\n",
            "Success ratio: 1.0\n",
            "Average number of steps: 13.117\n"
          ]
        }
      ],
      "source": [
        "solver = q_learning(env, epsilon=0.9, number_of_episodes=2000)\n",
        "test_solver(solver, env, number_of_tests=1000)"
      ]
    },
    {
      "cell_type": "code",
      "execution_count": 136,
      "metadata": {},
      "outputs": [
        {
          "name": "stdout",
          "output_type": "stream",
          "text": [
            "Episode: 800\n",
            "Success ratio: 0.319\n",
            "Average number of steps: 37.408\n"
          ]
        }
      ],
      "source": [
        "solver = q_learning(env, epsilon=0.9, number_of_episodes=800)\n",
        "test_solver(solver, env, number_of_tests=1000)"
      ]
    },
    {
      "cell_type": "code",
      "execution_count": 137,
      "metadata": {},
      "outputs": [
        {
          "name": "stdout",
          "output_type": "stream",
          "text": [
            "Episode: 800\n",
            "Success ratio: 0.253\n",
            "Average number of steps: 40.055\n"
          ]
        }
      ],
      "source": [
        "solver = q_learning(env, epsilon=0.1, number_of_episodes=800)\n",
        "test_solver(solver, env, number_of_tests=1000)"
      ]
    },
    {
      "cell_type": "code",
      "execution_count": 138,
      "metadata": {},
      "outputs": [
        {
          "name": "stdout",
          "output_type": "stream",
          "text": [
            "Episode: 1000\n",
            "Success ratio: 0.373\n",
            "Average number of steps: 35.487\n"
          ]
        }
      ],
      "source": [
        "solver = q_learning(env, learning_rate=0.1, number_of_episodes=1000)\n",
        "test_solver(solver, env, number_of_tests=1000)"
      ]
    },
    {
      "cell_type": "code",
      "execution_count": 139,
      "metadata": {},
      "outputs": [
        {
          "name": "stdout",
          "output_type": "stream",
          "text": [
            "Episode: 1000\n",
            "Success ratio: 0.896\n",
            "Average number of steps: 16.64\n"
          ]
        }
      ],
      "source": [
        "solver = q_learning(env, learning_rate=0.3, number_of_episodes=1000)\n",
        "test_solver(solver, env, number_of_tests=1000)"
      ]
    },
    {
      "cell_type": "code",
      "execution_count": 140,
      "metadata": {},
      "outputs": [
        {
          "name": "stdout",
          "output_type": "stream",
          "text": [
            "Episode: 1000\n",
            "Success ratio: 0.95\n",
            "Average number of steps: 14.858\n"
          ]
        }
      ],
      "source": [
        "solver = q_learning(env, learning_rate=0.5, number_of_episodes=1000)\n",
        "test_solver(solver, env, number_of_tests=1000)"
      ]
    },
    {
      "cell_type": "code",
      "execution_count": 141,
      "metadata": {},
      "outputs": [
        {
          "name": "stdout",
          "output_type": "stream",
          "text": [
            "Episode: 1000\n",
            "Success ratio: 0.973\n",
            "Average number of steps: 13.992\n"
          ]
        }
      ],
      "source": [
        "solver = q_learning(env, learning_rate=0.7, number_of_episodes=1000)\n",
        "test_solver(solver, env, number_of_tests=1000)"
      ]
    },
    {
      "cell_type": "code",
      "execution_count": 143,
      "metadata": {},
      "outputs": [
        {
          "name": "stdout",
          "output_type": "stream",
          "text": [
            "Episode: 1000\n",
            "Success ratio: 0.958\n",
            "Average number of steps: 14.558\n"
          ]
        }
      ],
      "source": [
        "solver = q_learning(env, learning_rate=0.9, number_of_episodes=1000)\n",
        "test_solver(solver, env, number_of_tests=1000)"
      ]
    },
    {
      "cell_type": "markdown",
      "metadata": {
        "collapsed": false
      },
      "source": [
        "# Wnioski"
      ]
    },
    {
      "cell_type": "markdown",
      "metadata": {},
      "source": []
    }
  ],
  "metadata": {
    "kernelspec": {
      "display_name": "Python 3",
      "language": "python",
      "name": "python3"
    },
    "language_info": {
      "codemirror_mode": {
        "name": "ipython",
        "version": 3
      },
      "file_extension": ".py",
      "mimetype": "text/x-python",
      "name": "python",
      "nbconvert_exporter": "python",
      "pygments_lexer": "ipython3",
      "version": "3.12.0"
    },
    "nteract": {
      "version": "nteract-front-end@1.0.0"
    }
  },
  "nbformat": 4,
  "nbformat_minor": 0
}
